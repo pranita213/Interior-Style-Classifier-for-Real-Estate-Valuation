{
 "cells": [
  {
   "cell_type": "code",
   "execution_count": null,
   "metadata": {},
   "outputs": [],
   "source": []
  },
  {
   "cell_type": "code",
   "execution_count": 3,
   "metadata": {},
   "outputs": [],
   "source": [
    "from tensorflow.keras.preprocessing.image import ImageDataGenerator\n",
    "from tensorflow.keras.applications import EfficientNetB0\n",
    "from tensorflow.keras.callbacks import EarlyStopping\n",
    "from tensorflow.keras.callbacks import ModelCheckpoint\n",
    "from tensorflow.keras.layers import BatchNormalization\n",
    "from tensorflow.keras.layers import Dropout\n",
    "from tensorflow.keras.layers import Dense\n",
    "from tensorflow.keras.layers import Input\n",
    "from tensorflow.keras.optimizers import Adam\n",
    "from tensorflow.keras.models import Model\n",
    "from sklearn.metrics import classification_report, confusion_matrix\n",
    "from sklearn.model_selection import train_test_split\n",
    "from imutils import paths\n",
    "from tqdm import tqdm\n",
    "import matplotlib.pyplot as plt\n",
    "import numpy as np\n",
    "import tensorflow as tf\n",
    "import seaborn as sns\n",
    "import numpy as np\n",
    "import shutil\n",
    "import os"
   ]
  },
  {
   "cell_type": "code",
   "execution_count": 28,
   "metadata": {},
   "outputs": [],
   "source": [
    "ORIG_INPUT_DATASET = \"House_Room_Dataset/Bedroom\"\n",
    "#Dataset link = https://www.kaggle.com/datasets/robinreni/house-rooms-image-dataset\n",
    "##kaggle datasets download -d robinreni/house-rooms-image-dataset — unzip\n",
    "\n",
    "TRAIN = \"training\"\n",
    "TEST = \"evaluation\"\n",
    "VAL = \"validation\"\n",
    "\n",
    "BASE_PATH = \"dataset\"\n",
    "BATCH_SIZE = 32\n",
    "CLASSES = [\"Modern\", \"Old\"] # \"Neutral\", "
   ]
  },
  {
   "cell_type": "code",
   "execution_count": 10,
   "metadata": {},
   "outputs": [],
   "source": [
    "def plot_hist(hist, metric):\n",
    "    if metric == 'auc_3':\n",
    "        plt.plot(hist.history[\"auc_3\"])\n",
    "        plt.plot(hist.history[\"val_auc_3\"])\n",
    "    else:\n",
    "        plt.plot(hist.history[\"loss\"])\n",
    "        plt.plot(hist.history[\"val_loss\"])\n",
    "    plt.style.use(\"ggplot\")\n",
    "    plt.title(\"model {}\".format(metric))\n",
    "    plt.ylabel(\"{}\".format(metric))\n",
    "    plt.xlabel(\"epoch\")\n",
    "    plt.legend([\"train\", \"validation\"], loc=\"upper left\")\n",
    "    plt.show()"
   ]
  },
  {
   "cell_type": "code",
   "execution_count": 13,
   "metadata": {},
   "outputs": [
    {
     "data": {
      "text/plain": [
       "451"
      ]
     },
     "execution_count": 13,
     "metadata": {},
     "output_type": "execute_result"
    }
   ],
   "source": [
    "with open(\"labels.txt\", 'r') as f:\n",
    "    manual_labels = f.read()\n",
    "    \n",
    "labels = [i for i in manual_labels]\n",
    "len(labels)"
   ]
  },
  {
   "cell_type": "code",
   "execution_count": 15,
   "metadata": {},
   "outputs": [
    {
     "name": "stdout",
     "output_type": "stream",
     "text": [
      "dict_keys(['O', 'M'])\n",
      "dict_values([271, 180])\n"
     ]
    }
   ],
   "source": [
    "from collections import Counter\n",
    "print(Counter(labels).keys()) \n",
    "print(Counter(labels).values())"
   ]
  },
  {
   "cell_type": "code",
   "execution_count": 16,
   "metadata": {},
   "outputs": [],
   "source": [
    "files = os.listdir(ORIG_INPUT_DATASET)\n",
    "files.sort(key=lambda f: int(f.split('_')[1].split('.')[0]))"
   ]
  },
  {
   "cell_type": "code",
   "execution_count": 17,
   "metadata": {},
   "outputs": [
    {
     "data": {
      "text/plain": [
       "['bed_1.jpg', 'bed_2.jpg', 'bed_3.jpg', 'bed_4.jpg', 'bed_8.jpg']"
      ]
     },
     "execution_count": 17,
     "metadata": {},
     "output_type": "execute_result"
    }
   ],
   "source": [
    "files[:5]"
   ]
  },
  {
   "cell_type": "code",
   "execution_count": null,
   "metadata": {},
   "outputs": [],
   "source": [
    "#We will allocate ~ 75%, 15%, and 10% of the data for training, validation, and testing, respectively."
   ]
  },
  {
   "cell_type": "code",
   "execution_count": 18,
   "metadata": {},
   "outputs": [],
   "source": [
    "# splitting files into train and test sets\n",
    "trainX, testX, trainY, testY =  train_test_split(files[:len(labels)], \n",
    "                 labels, \n",
    "                 stratify=labels, \n",
    "                 train_size=0.90)"
   ]
  },
  {
   "cell_type": "code",
   "execution_count": 19,
   "metadata": {},
   "outputs": [],
   "source": [
    "# further splitting of train set into train and val sets\n",
    "trainX, valX, trainY, valY = train_test_split(trainX, trainY, stratify=trainY, train_size=0.85)"
   ]
  },
  {
   "cell_type": "code",
   "execution_count": 20,
   "metadata": {},
   "outputs": [
    {
     "data": {
      "text/plain": [
       "(344, 344, 61, 61, 46, 46)"
      ]
     },
     "execution_count": 20,
     "metadata": {},
     "output_type": "execute_result"
    }
   ],
   "source": [
    "# Checking the size of train, test, eval\n",
    "len(trainX), len(trainY), len(valX), len(valY),  len(testX), len(testY)"
   ]
  },
  {
   "cell_type": "code",
   "execution_count": 29,
   "metadata": {},
   "outputs": [
    {
     "name": "stderr",
     "output_type": "stream",
     "text": [
      "Iterating over images in training folder: 100%|██████████| 344/344 [00:05<00:00, 68.28it/s]\n",
      "Iterating over images in evaluation folder: 100%|██████████| 46/46 [00:00<00:00, 71.61it/s]\n",
      "Iterating over images in validation folder: 100%|██████████| 61/61 [00:00<00:00, 63.89it/s]\n"
     ]
    }
   ],
   "source": [
    "import os\n",
    "import shutil\n",
    "from tqdm import tqdm\n",
    "\n",
    "# Define configuration settings directly in the script\n",
    "BASE_PATH = \"House_Room_Dataset/Bedroom\"\n",
    "\n",
    "# Example data splits and labels\n",
    "splits = [(trainX, trainY), (testX, testY), (valX, valY)]\n",
    "dirnames = ['training', 'evaluation', 'validation']\n",
    "\n",
    "for i, (data, label) in enumerate(splits):\n",
    "    outside_dir = dirnames[i]\n",
    "\n",
    "    for j in tqdm(range(0, len(label)), desc=f\"Iterating over images in {outside_dir} folder\"):\n",
    "        dir = label[j]\n",
    "\n",
    "        # Construct the path to the sub-directory\n",
    "        dirPath = os.path.join(BASE_PATH, outside_dir, dir)\n",
    "\n",
    "        # If the output directory does not exist, create it\n",
    "        if not os.path.exists(dirPath):\n",
    "            os.makedirs(dirPath)\n",
    "\n",
    "        # Copy the image to this new directory\n",
    "        src_img = os.path.join(ORIG_INPUT_DATASET, data[j])\n",
    "        shutil.copy(src_img, dirPath)\n"
   ]
  },
  {
   "cell_type": "code",
   "execution_count": 30,
   "metadata": {},
   "outputs": [
    {
     "name": "stdout",
     "output_type": "stream",
     "text": [
      "344 46 61\n"
     ]
    }
   ],
   "source": [
    "trainPath = os.path.join(BASE_PATH, TRAIN)\n",
    "valPath = os.path.join(BASE_PATH, VAL)\n",
    "testPath = os.path.join(BASE_PATH, TEST)\n",
    "totalTrain = len(list(paths.list_images(trainPath)))\n",
    "totalVal = len(list(paths.list_images(valPath)))\n",
    "totalTest = len(list(paths.list_images(testPath)))\n",
    "print(totalTrain, totalTest, totalVal)"
   ]
  },
  {
   "cell_type": "code",
   "execution_count": 31,
   "metadata": {},
   "outputs": [],
   "source": [
    "trainAug = ImageDataGenerator(\n",
    "rotation_range=90,\n",
    "zoom_range=[0.5, 1.0],\n",
    "width_shift_range=0.3,\n",
    "height_shift_range=0.25,\n",
    "shear_range=0.15,\n",
    "horizontal_flip=True,\n",
    "fill_mode=\"nearest\",\n",
    "brightness_range=[0.2, 1.0]\n",
    ")"
   ]
  },
  {
   "cell_type": "code",
   "execution_count": 32,
   "metadata": {},
   "outputs": [],
   "source": [
    "valAug = ImageDataGenerator()"
   ]
  },
  {
   "cell_type": "code",
   "execution_count": 33,
   "metadata": {},
   "outputs": [],
   "source": [
    "testAug = ImageDataGenerator()"
   ]
  },
  {
   "cell_type": "code",
   "execution_count": 44,
   "metadata": {},
   "outputs": [
    {
     "name": "stdout",
     "output_type": "stream",
     "text": [
      "Found 344 images belonging to 2 classes.\n"
     ]
    }
   ],
   "source": [
    "# Create training batches whilst creating augmented images on the fly\n",
    "trainGen = trainAug.flow_from_directory(\n",
    "directory=trainPath,\n",
    "target_size=(224,224),\n",
    "save_to_dir='dataset/augmented/train',\n",
    "save_prefix='train',\n",
    "shuffle=True\n",
    ")\n"
   ]
  },
  {
   "cell_type": "code",
   "execution_count": 45,
   "metadata": {},
   "outputs": [
    {
     "name": "stdout",
     "output_type": "stream",
     "text": [
      "Found 61 images belonging to 2 classes.\n"
     ]
    }
   ],
   "source": [
    "# Create val batches \n",
    "valGen = valAug.flow_from_directory(\n",
    "directory=valPath,\n",
    "target_size=(224,224),\n",
    "shuffle=True)"
   ]
  },
  {
   "cell_type": "code",
   "execution_count": 35,
   "metadata": {},
   "outputs": [
    {
     "name": "stdout",
     "output_type": "stream",
     "text": [
      "Found 46 images belonging to 2 classes.\n"
     ]
    }
   ],
   "source": [
    "# Create test batches\n",
    "testGen = testAug.flow_from_directory(\n",
    "directory=testPath,\n",
    "target_size=(224,224),\n",
    "shuffle=False\n",
    ")"
   ]
  },
  {
   "cell_type": "code",
   "execution_count": 36,
   "metadata": {},
   "outputs": [
    {
     "name": "stdout",
     "output_type": "stream",
     "text": [
      "Downloading data from https://storage.googleapis.com/keras-applications/efficientnetb0_notop.h5\n",
      "\u001b[1m16705208/16705208\u001b[0m \u001b[32m━━━━━━━━━━━━━━━━━━━━\u001b[0m\u001b[37m\u001b[0m \u001b[1m31s\u001b[0m 2us/step\n"
     ]
    }
   ],
   "source": [
    "baseModel = EfficientNetB0(\n",
    "            weights=\"imagenet\",\n",
    "            include_top=False, # make sure top layer is not included\n",
    "            input_tensor=Input(shape=(224, 224, 3)),\n",
    "            pooling=\"avg\"\n",
    "           )"
   ]
  },
  {
   "cell_type": "code",
   "execution_count": 37,
   "metadata": {},
   "outputs": [],
   "source": [
    "# freeze the weights\n",
    "for layer in baseModel.layers:\n",
    "      layer.trainable = False"
   ]
  },
  {
   "cell_type": "code",
   "execution_count": 38,
   "metadata": {},
   "outputs": [],
   "source": [
    "# training a new classifier on top (Functional Keras Model)\n",
    "x = baseModel.output\n",
    "Layer_1 = BatchNormalization()(x)\n",
    "Layer_2 = Dropout(0.5)(Layer_1)\n",
    "output_layer = Dense(len(CLASSES), activation=\"softmax\")(Layer_2)\n",
    "model = Model(inputs = baseModel.input, outputs = output_layer)"
   ]
  },
  {
   "cell_type": "code",
   "execution_count": 39,
   "metadata": {},
   "outputs": [],
   "source": [
    "# Another way to create the classifier on top of basemodel\n",
    "model = tf.keras.Sequential()\n",
    "model.add(baseModel)\n",
    "model.add(BatchNormalization())\n",
    "model.add(Dropout(0.5))\n",
    "model.add(Dense(len(CLASSES), activation=\"softmax\"))"
   ]
  },
  {
   "cell_type": "code",
   "execution_count": 40,
   "metadata": {},
   "outputs": [],
   "source": [
    "# compile\n",
    "opt = Adam(learning_rate=1e-3)\n",
    "model.compile(optimizer=opt, \n",
    "              loss='binary_crossentropy', \n",
    "              metrics=[tf.keras.metrics.AUC()]\n",
    "              )"
   ]
  },
  {
   "cell_type": "code",
   "execution_count": 42,
   "metadata": {},
   "outputs": [],
   "source": [
    "# implementing early stopping\n",
    "es = EarlyStopping(\n",
    "     monitor='val_loss',  #metric to monitor\n",
    "     mode='min',  # whether to min or max the metric monitored\n",
    "     patience=10, # epochs to wait before declaring stopped training\n",
    "     verbose=1  # output epoch when training was stopped\n",
    "     )\n",
    "# implementing model checkpoint\n",
    "mc = ModelCheckpoint(\n",
    "      'feature_extraction.keras',\n",
    "       monitor='val_loss',\n",
    "       mode='min',\n",
    "       verbose=1, # display epoch+accuracy everytime model is saved\n",
    "       save_best_only=True\n",
    "      )"
   ]
  },
  {
   "cell_type": "code",
   "execution_count": 47,
   "metadata": {},
   "outputs": [],
   "source": [
    "os.makedirs('dataset/augmented/train', exist_ok=True)"
   ]
  },
  {
   "cell_type": "code",
   "execution_count": 48,
   "metadata": {},
   "outputs": [
    {
     "name": "stdout",
     "output_type": "stream",
     "text": [
      "Epoch 1/25\n"
     ]
    },
    {
     "name": "stderr",
     "output_type": "stream",
     "text": [
      "c:\\Anaconda3\\Lib\\site-packages\\keras\\src\\trainers\\data_adapters\\py_dataset_adapter.py:121: UserWarning: Your `PyDataset` class should call `super().__init__(**kwargs)` in its constructor. `**kwargs` can include `workers`, `use_multiprocessing`, `max_queue_size`. Do not pass these arguments to `fit()`, as they will be ignored.\n",
      "  self._warn_if_super_not_called()\n"
     ]
    },
    {
     "name": "stdout",
     "output_type": "stream",
     "text": [
      "\n",
      "Epoch 1: val_loss improved from inf to 0.67781, saving model to feature_extraction.keras\n",
      "10/10 - 66s - 7s/step - auc: 0.6137 - loss: 0.9065 - val_auc: 0.6502 - val_loss: 0.6778\n",
      "Epoch 2/25\n"
     ]
    },
    {
     "name": "stderr",
     "output_type": "stream",
     "text": [
      "c:\\Anaconda3\\Lib\\contextlib.py:158: UserWarning: Your input ran out of data; interrupting training. Make sure that your dataset or generator can generate at least `steps_per_epoch * epochs` batches. You may need to use the `.repeat()` function when building your dataset.\n",
      "  self.gen.throw(typ, value, traceback)\n"
     ]
    },
    {
     "name": "stdout",
     "output_type": "stream",
     "text": [
      "\n",
      "Epoch 2: val_loss improved from 0.67781 to 0.67619, saving model to feature_extraction.keras\n",
      "10/10 - 4s - 401ms/step - auc: 0.6221 - loss: 0.8692 - val_auc: 0.6595 - val_loss: 0.6762\n",
      "Epoch 3/25\n",
      "\n",
      "Epoch 3: val_loss improved from 0.67619 to 0.66095, saving model to feature_extraction.keras\n",
      "10/10 - 25s - 2s/step - auc: 0.6009 - loss: 0.8677 - val_auc: 0.6809 - val_loss: 0.6610\n",
      "Epoch 4/25\n",
      "\n",
      "Epoch 4: val_loss improved from 0.66095 to 0.65981, saving model to feature_extraction.keras\n",
      "10/10 - 3s - 344ms/step - auc: 0.7188 - loss: 0.7820 - val_auc: 0.6818 - val_loss: 0.6598\n",
      "Epoch 5/25\n",
      "\n",
      "Epoch 5: val_loss improved from 0.65981 to 0.65033, saving model to feature_extraction.keras\n",
      "10/10 - 25s - 2s/step - auc: 0.6846 - loss: 0.8008 - val_auc: 0.6915 - val_loss: 0.6503\n",
      "Epoch 6/25\n",
      "\n",
      "Epoch 6: val_loss improved from 0.65033 to 0.64943, saving model to feature_extraction.keras\n",
      "10/10 - 4s - 361ms/step - auc: 0.7852 - loss: 0.6590 - val_auc: 0.6936 - val_loss: 0.6494\n",
      "Epoch 7/25\n",
      "\n",
      "Epoch 7: val_loss improved from 0.64943 to 0.64161, saving model to feature_extraction.keras\n",
      "10/10 - 23s - 2s/step - auc: 0.7350 - loss: 0.7450 - val_auc: 0.7063 - val_loss: 0.6416\n",
      "Epoch 8/25\n",
      "\n",
      "Epoch 8: val_loss improved from 0.64161 to 0.64084, saving model to feature_extraction.keras\n",
      "10/10 - 4s - 399ms/step - auc: 0.7383 - loss: 0.7278 - val_auc: 0.7073 - val_loss: 0.6408\n",
      "Epoch 9/25\n",
      "\n",
      "Epoch 9: val_loss improved from 0.64084 to 0.63365, saving model to feature_extraction.keras\n",
      "10/10 - 29s - 3s/step - auc: 0.7075 - loss: 0.7617 - val_auc: 0.7232 - val_loss: 0.6337\n",
      "Epoch 10/25\n",
      "\n",
      "Epoch 10: val_loss improved from 0.63365 to 0.63314, saving model to feature_extraction.keras\n",
      "10/10 - 4s - 371ms/step - auc: 0.7275 - loss: 0.7681 - val_auc: 0.7266 - val_loss: 0.6331\n",
      "Epoch 11/25\n",
      "\n",
      "Epoch 11: val_loss improved from 0.63314 to 0.62684, saving model to feature_extraction.keras\n",
      "10/10 - 30s - 3s/step - auc: 0.7399 - loss: 0.7103 - val_auc: 0.7302 - val_loss: 0.6268\n",
      "Epoch 12/25\n",
      "\n",
      "Epoch 12: val_loss improved from 0.62684 to 0.62628, saving model to feature_extraction.keras\n",
      "10/10 - 4s - 429ms/step - auc: 0.9023 - loss: 0.5279 - val_auc: 0.7303 - val_loss: 0.6263\n",
      "Epoch 13/25\n",
      "\n",
      "Epoch 13: val_loss improved from 0.62628 to 0.62122, saving model to feature_extraction.keras\n",
      "10/10 - 24s - 2s/step - auc: 0.7645 - loss: 0.6920 - val_auc: 0.7279 - val_loss: 0.6212\n",
      "Epoch 14/25\n",
      "\n",
      "Epoch 14: val_loss improved from 0.62122 to 0.62084, saving model to feature_extraction.keras\n",
      "10/10 - 3s - 316ms/step - auc: 0.7422 - loss: 0.6916 - val_auc: 0.7292 - val_loss: 0.6208\n",
      "Epoch 15/25\n",
      "\n",
      "Epoch 15: val_loss improved from 0.62084 to 0.61743, saving model to feature_extraction.keras\n",
      "10/10 - 25s - 2s/step - auc: 0.7628 - loss: 0.6782 - val_auc: 0.7248 - val_loss: 0.6174\n",
      "Epoch 16/25\n",
      "\n",
      "Epoch 16: val_loss improved from 0.61743 to 0.61706, saving model to feature_extraction.keras\n",
      "10/10 - 4s - 433ms/step - auc: 0.6885 - loss: 0.8265 - val_auc: 0.7243 - val_loss: 0.6171\n",
      "Epoch 17/25\n",
      "\n",
      "Epoch 17: val_loss improved from 0.61706 to 0.61330, saving model to feature_extraction.keras\n",
      "10/10 - 41s - 4s/step - auc: 0.7719 - loss: 0.6612 - val_auc: 0.7270 - val_loss: 0.6133\n",
      "Epoch 18/25\n",
      "\n",
      "Epoch 18: val_loss improved from 0.61330 to 0.61275, saving model to feature_extraction.keras\n",
      "10/10 - 5s - 480ms/step - auc: 0.8574 - loss: 0.5078 - val_auc: 0.7272 - val_loss: 0.6128\n",
      "Epoch 19/25\n",
      "\n",
      "Epoch 19: val_loss improved from 0.61275 to 0.61179, saving model to feature_extraction.keras\n",
      "10/10 - 39s - 4s/step - auc: 0.7580 - loss: 0.6596 - val_auc: 0.7364 - val_loss: 0.6118\n",
      "Epoch 20/25\n",
      "\n",
      "Epoch 20: val_loss improved from 0.61179 to 0.61175, saving model to feature_extraction.keras\n",
      "10/10 - 3s - 305ms/step - auc: 0.7830 - loss: 0.5961 - val_auc: 0.7366 - val_loss: 0.6118\n",
      "Epoch 21/25\n",
      "\n",
      "Epoch 21: val_loss did not improve from 0.61175\n",
      "10/10 - 22s - 2s/step - auc: 0.7982 - loss: 0.6170 - val_auc: 0.7360 - val_loss: 0.6134\n",
      "Epoch 22/25\n",
      "\n",
      "Epoch 22: val_loss did not improve from 0.61175\n",
      "10/10 - 3s - 278ms/step - auc: 0.7998 - loss: 0.6318 - val_auc: 0.7354 - val_loss: 0.6136\n",
      "Epoch 23/25\n",
      "\n",
      "Epoch 23: val_loss did not improve from 0.61175\n",
      "10/10 - 22s - 2s/step - auc: 0.8065 - loss: 0.6102 - val_auc: 0.7206 - val_loss: 0.6136\n",
      "Epoch 24/25\n",
      "\n",
      "Epoch 24: val_loss did not improve from 0.61175\n",
      "10/10 - 3s - 288ms/step - auc: 0.7998 - loss: 0.5810 - val_auc: 0.7188 - val_loss: 0.6136\n",
      "Epoch 25/25\n",
      "\n",
      "Epoch 25: val_loss did not improve from 0.61175\n",
      "10/10 - 23s - 2s/step - auc: 0.7950 - loss: 0.6275 - val_auc: 0.7119 - val_loss: 0.6142\n"
     ]
    }
   ],
   "source": [
    "# Training the model\n",
    "hist = model.fit(\n",
    "       x=trainGen,\n",
    "       epochs=25,\n",
    "       verbose=2,\n",
    "       validation_data=valGen,\n",
    "       steps_per_epoch=totalTrain // BATCH_SIZE,\n",
    "       callbacks=[es, mc]\n",
    "      )"
   ]
  },
  {
   "cell_type": "code",
   "execution_count": 49,
   "metadata": {},
   "outputs": [
    {
     "name": "stdout",
     "output_type": "stream",
     "text": [
      "\u001b[1m2/2\u001b[0m \u001b[32m━━━━━━━━━━━━━━━━━━━━\u001b[0m\u001b[37m\u001b[0m \u001b[1m12s\u001b[0m 8s/step\n",
      "No. of test images 46\n",
      "{'M': 0, 'O': 1}\n"
     ]
    },
    {
     "data": {
      "image/png": "[encoded data removed]",
      "text/plain": [
       "<Figure size 640x480 with 2 Axes>"
      ]
     },
     "metadata": {},
     "output_type": "display_data"
    }
   ],
   "source": [
    "testGen.reset()\n",
    "predIdxs = model.predict(\n",
    "             x=testGen,\n",
    "             steps=(totalTest // BATCH_SIZE) + 1\n",
    "            )\n",
    "predIdxs = np.argmax(predIdxs, axis = 1)\n",
    "print(\"No. of test images\", len(predIdxs))\n",
    "print(testGen.class_indices)\n",
    "cm = confusion_matrix(testGen.classes, predIdxs)\n",
    "heatmap = sns.heatmap(cm, annot=True)\n",
    "plt.xlabel(\"Predicted\")\n",
    "plt.ylabel(\"Actual\")\n",
    "plt.show()"
   ]
  },
  {
   "cell_type": "code",
   "execution_count": 52,
   "metadata": {},
   "outputs": [
    {
     "name": "stdout",
     "output_type": "stream",
     "text": [
      "<Functional name=efficientnetb0, built=True>: True\n",
      "<BatchNormalization name=batch_normalization_1, built=True>: True\n",
      "<Dropout name=dropout_1, built=True>: True\n",
      "<Dense name=dense_1, built=True>: True\n"
     ]
    }
   ],
   "source": [
    "def fine_tune_model(model):\n",
    "     # unfreeze last conv block i.e. block7a \n",
    "     for layer in model.layers[-20:]:\n",
    "          if not isinstance(layer, BatchNormalization):\n",
    "               layer.trainable = True\n",
    "     # check which of these are trainable and which aren't\n",
    "     for layer in model.layers:\n",
    "          print(\"{}: {}\".format(layer, layer.trainable))\n",
    "     # compile (with an even smaller learning rate)\n",
    "     opt = Adam(learning_rate=1e-5)\n",
    "     model.compile(\n",
    "             optimizer=opt,\n",
    "             loss='binary_crossentropy',\n",
    "             metrics=[tf.keras.metrics.AUC()]\n",
    "             )\n",
    "     return model\n",
    "model_fine_tuned = fine_tune_model(model)"
   ]
  },
  {
   "cell_type": "code",
   "execution_count": 53,
   "metadata": {},
   "outputs": [],
   "source": [
    "trainGen.reset()\n",
    "valGen.reset()\n",
    "testGen.reset()"
   ]
  },
  {
   "cell_type": "code",
   "execution_count": 55,
   "metadata": {},
   "outputs": [
    {
     "name": "stdout",
     "output_type": "stream",
     "text": [
      "Epoch 1/50\n",
      "\n",
      "Epoch 1: val_loss improved from inf to 0.61314, saving model to fine_tuned_house.keras\n",
      "10/10 - 60s - 6s/step - auc_1: 0.8042 - loss: 0.6180 - val_auc_1: 0.7143 - val_loss: 0.6131\n",
      "Epoch 2/50\n"
     ]
    },
    {
     "name": "stderr",
     "output_type": "stream",
     "text": [
      "c:\\Anaconda3\\Lib\\contextlib.py:158: UserWarning: Your input ran out of data; interrupting training. Make sure that your dataset or generator can generate at least `steps_per_epoch * epochs` batches. You may need to use the `.repeat()` function when building your dataset.\n",
      "  self.gen.throw(typ, value, traceback)\n"
     ]
    },
    {
     "name": "stdout",
     "output_type": "stream",
     "text": [
      "\n",
      "Epoch 2: val_loss improved from 0.61314 to 0.61300, saving model to fine_tuned_house.keras\n",
      "10/10 - 4s - 353ms/step - auc_1: 0.7256 - loss: 0.7110 - val_auc_1: 0.7143 - val_loss: 0.6130\n",
      "Epoch 3/50\n",
      "\n",
      "Epoch 3: val_loss improved from 0.61300 to 0.61204, saving model to fine_tuned_house.keras\n",
      "10/10 - 24s - 2s/step - auc_1: 0.7963 - loss: 0.6151 - val_auc_1: 0.7157 - val_loss: 0.6120\n",
      "Epoch 4/50\n",
      "\n",
      "Epoch 4: val_loss improved from 0.61204 to 0.61194, saving model to fine_tuned_house.keras\n",
      "10/10 - 4s - 373ms/step - auc_1: 0.8887 - loss: 0.4533 - val_auc_1: 0.7170 - val_loss: 0.6119\n",
      "Epoch 5/50\n",
      "\n",
      "Epoch 5: val_loss improved from 0.61194 to 0.61102, saving model to fine_tuned_house.keras\n",
      "10/10 - 23s - 2s/step - auc_1: 0.8059 - loss: 0.6215 - val_auc_1: 0.7173 - val_loss: 0.6110\n",
      "Epoch 6/50\n",
      "\n",
      "Epoch 6: val_loss improved from 0.61102 to 0.61093, saving model to fine_tuned_house.keras\n",
      "10/10 - 3s - 319ms/step - auc_1: 0.8984 - loss: 0.4500 - val_auc_1: 0.7170 - val_loss: 0.6109\n",
      "Epoch 7/50\n",
      "\n",
      "Epoch 7: val_loss improved from 0.61093 to 0.61016, saving model to fine_tuned_house.keras\n",
      "10/10 - 23s - 2s/step - auc_1: 0.7772 - loss: 0.6303 - val_auc_1: 0.7184 - val_loss: 0.6102\n",
      "Epoch 8/50\n",
      "\n",
      "Epoch 8: val_loss improved from 0.61016 to 0.61005, saving model to fine_tuned_house.keras\n",
      "10/10 - 3s - 320ms/step - auc_1: 0.7671 - loss: 0.6926 - val_auc_1: 0.7178 - val_loss: 0.6100\n",
      "Epoch 9/50\n",
      "\n",
      "Epoch 9: val_loss improved from 0.61005 to 0.60925, saving model to fine_tuned_house.keras\n",
      "10/10 - 24s - 2s/step - auc_1: 0.7804 - loss: 0.6452 - val_auc_1: 0.7188 - val_loss: 0.6093\n",
      "Epoch 10/50\n",
      "\n",
      "Epoch 10: val_loss improved from 0.60925 to 0.60924, saving model to fine_tuned_house.keras\n",
      "10/10 - 3s - 326ms/step - auc_1: 0.5801 - loss: 1.0027 - val_auc_1: 0.7180 - val_loss: 0.6092\n",
      "Epoch 11/50\n",
      "\n",
      "Epoch 11: val_loss improved from 0.60924 to 0.60852, saving model to fine_tuned_house.keras\n",
      "10/10 - 24s - 2s/step - auc_1: 0.7617 - loss: 0.6730 - val_auc_1: 0.7216 - val_loss: 0.6085\n",
      "Epoch 12/50\n",
      "\n",
      "Epoch 12: val_loss improved from 0.60852 to 0.60846, saving model to fine_tuned_house.keras\n",
      "10/10 - 3s - 330ms/step - auc_1: 0.8672 - loss: 0.4980 - val_auc_1: 0.7208 - val_loss: 0.6085\n",
      "Epoch 13/50\n",
      "\n",
      "Epoch 13: val_loss improved from 0.60846 to 0.60794, saving model to fine_tuned_house.keras\n",
      "10/10 - 24s - 2s/step - auc_1: 0.7793 - loss: 0.6404 - val_auc_1: 0.7210 - val_loss: 0.6079\n",
      "Epoch 14/50\n",
      "\n",
      "Epoch 14: val_loss improved from 0.60794 to 0.60785, saving model to fine_tuned_house.keras\n",
      "10/10 - 3s - 325ms/step - auc_1: 0.8770 - loss: 0.4952 - val_auc_1: 0.7216 - val_loss: 0.6079\n",
      "Epoch 15/50\n",
      "\n",
      "Epoch 15: val_loss improved from 0.60785 to 0.60724, saving model to fine_tuned_house.keras\n",
      "10/10 - 24s - 2s/step - auc_1: 0.7982 - loss: 0.5972 - val_auc_1: 0.7216 - val_loss: 0.6072\n",
      "Epoch 16/50\n",
      "\n",
      "Epoch 16: val_loss improved from 0.60724 to 0.60718, saving model to fine_tuned_house.keras\n",
      "10/10 - 3s - 324ms/step - auc_1: 0.7422 - loss: 0.7443 - val_auc_1: 0.7210 - val_loss: 0.6072\n",
      "Epoch 17/50\n",
      "\n",
      "Epoch 17: val_loss improved from 0.60718 to 0.60672, saving model to fine_tuned_house.keras\n",
      "10/10 - 23s - 2s/step - auc_1: 0.7722 - loss: 0.6356 - val_auc_1: 0.7208 - val_loss: 0.6067\n",
      "Epoch 18/50\n",
      "\n",
      "Epoch 18: val_loss improved from 0.60672 to 0.60664, saving model to fine_tuned_house.keras\n",
      "10/10 - 3s - 298ms/step - auc_1: 0.6667 - loss: 0.9326 - val_auc_1: 0.7216 - val_loss: 0.6066\n",
      "Epoch 19/50\n",
      "\n",
      "Epoch 19: val_loss improved from 0.60664 to 0.60634, saving model to fine_tuned_house.keras\n",
      "10/10 - 24s - 2s/step - auc_1: 0.7445 - loss: 0.6861 - val_auc_1: 0.7227 - val_loss: 0.6063\n",
      "Epoch 20/50\n",
      "\n",
      "Epoch 20: val_loss improved from 0.60634 to 0.60625, saving model to fine_tuned_house.keras\n",
      "10/10 - 4s - 386ms/step - auc_1: 0.7197 - loss: 0.7375 - val_auc_1: 0.7218 - val_loss: 0.6063\n",
      "Epoch 21/50\n",
      "\n",
      "Epoch 21: val_loss improved from 0.60625 to 0.60610, saving model to fine_tuned_house.keras\n",
      "10/10 - 24s - 2s/step - auc_1: 0.7765 - loss: 0.6610 - val_auc_1: 0.7216 - val_loss: 0.6061\n",
      "Epoch 22/50\n",
      "\n",
      "Epoch 22: val_loss improved from 0.60610 to 0.60609, saving model to fine_tuned_house.keras\n",
      "10/10 - 3s - 329ms/step - auc_1: 0.9199 - loss: 0.4186 - val_auc_1: 0.7221 - val_loss: 0.6061\n",
      "Epoch 23/50\n",
      "\n",
      "Epoch 23: val_loss improved from 0.60609 to 0.60583, saving model to fine_tuned_house.keras\n",
      "10/10 - 24s - 2s/step - auc_1: 0.7721 - loss: 0.6456 - val_auc_1: 0.7233 - val_loss: 0.6058\n",
      "Epoch 24/50\n",
      "\n",
      "Epoch 24: val_loss improved from 0.60583 to 0.60581, saving model to fine_tuned_house.keras\n",
      "10/10 - 3s - 326ms/step - auc_1: 0.9717 - loss: 0.3755 - val_auc_1: 0.7237 - val_loss: 0.6058\n",
      "Epoch 25/50\n",
      "\n",
      "Epoch 25: val_loss did not improve from 0.60581\n",
      "10/10 - 23s - 2s/step - auc_1: 0.7992 - loss: 0.6155 - val_auc_1: 0.7267 - val_loss: 0.6059\n",
      "Epoch 26/50\n",
      "\n",
      "Epoch 26: val_loss did not improve from 0.60581\n",
      "10/10 - 3s - 279ms/step - auc_1: 0.7666 - loss: 0.6294 - val_auc_1: 0.7267 - val_loss: 0.6059\n",
      "Epoch 27/50\n",
      "\n",
      "Epoch 27: val_loss improved from 0.60581 to 0.60556, saving model to fine_tuned_house.keras\n",
      "10/10 - 24s - 2s/step - auc_1: 0.8207 - loss: 0.5865 - val_auc_1: 0.7278 - val_loss: 0.6056\n",
      "Epoch 28/50\n",
      "\n",
      "Epoch 28: val_loss improved from 0.60556 to 0.60553, saving model to fine_tuned_house.keras\n",
      "10/10 - 3s - 341ms/step - auc_1: 0.7432 - loss: 0.7075 - val_auc_1: 0.7278 - val_loss: 0.6055\n",
      "Epoch 29/50\n",
      "\n",
      "Epoch 29: val_loss did not improve from 0.60553\n",
      "10/10 - 23s - 2s/step - auc_1: 0.8121 - loss: 0.6040 - val_auc_1: 0.7291 - val_loss: 0.6057\n",
      "Epoch 30/50\n",
      "\n",
      "Epoch 30: val_loss did not improve from 0.60553\n",
      "10/10 - 3s - 279ms/step - auc_1: 0.6709 - loss: 0.7363 - val_auc_1: 0.7286 - val_loss: 0.6057\n",
      "Epoch 31/50\n",
      "\n",
      "Epoch 31: val_loss did not improve from 0.60553\n",
      "10/10 - 23s - 2s/step - auc_1: 0.7849 - loss: 0.6491 - val_auc_1: 0.7294 - val_loss: 0.6056\n",
      "Epoch 32/50\n",
      "\n",
      "Epoch 32: val_loss did not improve from 0.60553\n",
      "10/10 - 3s - 279ms/step - auc_1: 0.8848 - loss: 0.4790 - val_auc_1: 0.7304 - val_loss: 0.6057\n",
      "Epoch 33/50\n",
      "\n",
      "Epoch 33: val_loss did not improve from 0.60553\n",
      "10/10 - 23s - 2s/step - auc_1: 0.8166 - loss: 0.5886 - val_auc_1: 0.7294 - val_loss: 0.6061\n",
      "Epoch 34/50\n",
      "\n",
      "Epoch 34: val_loss did not improve from 0.60553\n",
      "10/10 - 3s - 278ms/step - auc_1: 0.7090 - loss: 0.7264 - val_auc_1: 0.7288 - val_loss: 0.6059\n",
      "Epoch 35/50\n",
      "\n",
      "Epoch 35: val_loss did not improve from 0.60553\n",
      "10/10 - 23s - 2s/step - auc_1: 0.7729 - loss: 0.6515 - val_auc_1: 0.7302 - val_loss: 0.6063\n",
      "Epoch 36/50\n",
      "\n",
      "Epoch 36: val_loss did not improve from 0.60553\n",
      "10/10 - 3s - 280ms/step - auc_1: 0.8594 - loss: 0.5207 - val_auc_1: 0.7292 - val_loss: 0.6063\n",
      "Epoch 37/50\n",
      "\n",
      "Epoch 37: val_loss did not improve from 0.60553\n",
      "10/10 - 23s - 2s/step - auc_1: 0.8129 - loss: 0.5822 - val_auc_1: 0.7296 - val_loss: 0.6064\n",
      "Epoch 38/50\n",
      "\n",
      "Epoch 38: val_loss did not improve from 0.60553\n",
      "10/10 - 3s - 254ms/step - auc_1: 0.5955 - loss: 0.9648 - val_auc_1: 0.7299 - val_loss: 0.6064\n",
      "Epoch 39/50\n",
      "\n",
      "Epoch 39: val_loss did not improve from 0.60553\n",
      "10/10 - 23s - 2s/step - auc_1: 0.8021 - loss: 0.6042 - val_auc_1: 0.7306 - val_loss: 0.6065\n",
      "Epoch 40/50\n",
      "\n",
      "Epoch 40: val_loss did not improve from 0.60553\n",
      "10/10 - 3s - 257ms/step - auc_1: 0.8715 - loss: 0.5050 - val_auc_1: 0.7317 - val_loss: 0.6065\n",
      "Epoch 41/50\n",
      "\n",
      "Epoch 41: val_loss did not improve from 0.60553\n",
      "10/10 - 23s - 2s/step - auc_1: 0.7931 - loss: 0.6306 - val_auc_1: 0.7294 - val_loss: 0.6068\n",
      "Epoch 42/50\n",
      "\n",
      "Epoch 42: val_loss did not improve from 0.60553\n",
      "10/10 - 3s - 280ms/step - auc_1: 0.6777 - loss: 0.7744 - val_auc_1: 0.7291 - val_loss: 0.6069\n",
      "Epoch 43/50\n",
      "\n",
      "Epoch 43: val_loss did not improve from 0.60553\n",
      "10/10 - 23s - 2s/step - auc_1: 0.7812 - loss: 0.6452 - val_auc_1: 0.7288 - val_loss: 0.6069\n",
      "Epoch 44/50\n",
      "\n",
      "Epoch 44: val_loss did not improve from 0.60553\n",
      "10/10 - 3s - 279ms/step - auc_1: 0.7529 - loss: 0.6502 - val_auc_1: 0.7292 - val_loss: 0.6069\n",
      "Epoch 45/50\n",
      "\n",
      "Epoch 45: val_loss did not improve from 0.60553\n",
      "10/10 - 23s - 2s/step - auc_1: 0.7920 - loss: 0.6133 - val_auc_1: 0.7296 - val_loss: 0.6074\n",
      "Epoch 46/50\n",
      "\n",
      "Epoch 46: val_loss did not improve from 0.60553\n",
      "10/10 - 3s - 261ms/step - auc_1: 0.8490 - loss: 0.5284 - val_auc_1: 0.7307 - val_loss: 0.6073\n",
      "Epoch 47/50\n",
      "\n",
      "Epoch 47: val_loss did not improve from 0.60553\n",
      "10/10 - 24s - 2s/step - auc_1: 0.8057 - loss: 0.6135 - val_auc_1: 0.7294 - val_loss: 0.6080\n",
      "Epoch 48/50\n",
      "\n",
      "Epoch 48: val_loss did not improve from 0.60553\n",
      "10/10 - 3s - 297ms/step - auc_1: 0.8135 - loss: 0.6184 - val_auc_1: 0.7296 - val_loss: 0.6078\n",
      "Epoch 48: early stopping\n"
     ]
    }
   ],
   "source": [
    "# implementing early stopping\n",
    "es_tune = EarlyStopping(\n",
    "     monitor='val_loss', \n",
    "     mode='min',  \n",
    "     patience=20, \n",
    "     verbose=1  \n",
    "     )\n",
    "# implementing model checkpoint\n",
    "mc_tune = ModelCheckpoint(\n",
    "      'fine_tuned_house.keras',\n",
    "       monitor='val_loss',\n",
    "       mode='min',\n",
    "       verbose=1, \n",
    "       save_best_only=True\n",
    "      )\n",
    "hist = model_fine_tuned.fit(\n",
    "      x=trainGen,\n",
    "      steps_per_epoch=totalTrain // BATCH_SIZE,\n",
    "      validation_data=valGen,\n",
    "      epochs=50,\n",
    "      verbose=2,\n",
    "      callbacks=[es_tune, mc_tune]\n",
    "     )"
   ]
  },
  {
   "cell_type": "code",
   "execution_count": 56,
   "metadata": {},
   "outputs": [
    {
     "name": "stdout",
     "output_type": "stream",
     "text": [
      "\u001b[1m2/2\u001b[0m \u001b[32m━━━━━━━━━━━━━━━━━━━━\u001b[0m\u001b[37m\u001b[0m \u001b[1m10s\u001b[0m 6s/step\n",
      "No. of test images 61\n",
      "{'M': 0, 'O': 1}\n"
     ]
    },
    {
     "data": {
      "image/png": "[encoded data removed]",
      "text/plain": [
       "<Figure size 640x480 with 2 Axes>"
      ]
     },
     "metadata": {},
     "output_type": "display_data"
    }
   ],
   "source": [
    "valGen.reset()\n",
    "velIdxs = model.predict(\n",
    "             x=valGen,\n",
    "             steps=(totalTest // BATCH_SIZE) + 1\n",
    "            )\n",
    "velIdxs = np.argmax(velIdxs, axis = 1)\n",
    "print(\"No. of test images\", len(velIdxs))\n",
    "print(valGen.class_indices)\n",
    "cm = confusion_matrix(valGen.classes, velIdxs)\n",
    "heatmap = sns.heatmap(cm, annot=True)\n",
    "plt.xlabel(\"Predicted\")\n",
    "plt.ylabel(\"Actual\")\n",
    "plt.show()"
   ]
  },
  {
   "cell_type": "code",
   "execution_count": null,
   "metadata": {},
   "outputs": [],
   "source": []
  },
  {
   "cell_type": "code",
   "execution_count": null,
   "metadata": {},
   "outputs": [],
   "source": []
  }
 ],
 "metadata": {
  "kernelspec": {
   "display_name": "base",
   "language": "python",
   "name": "python3"
  },
  "language_info": {
   "codemirror_mode": {
    "name": "ipython",
    "version": 3
   },
   "file_extension": ".py",
   "mimetype": "text/x-python",
   "name": "python",
   "nbconvert_exporter": "python",
   "pygments_lexer": "ipython3",
   "version": "3.11.7"
  }
 },
 "nbformat": 4,
 "nbformat_minor": 2
}
